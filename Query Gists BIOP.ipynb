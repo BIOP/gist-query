{
 "cells": [
  {
   "cell_type": "code",
   "execution_count": 121,
   "metadata": {},
   "outputs": [],
   "source": [
    "import datetime\n",
    "import requests\n",
    "import json\n",
    "import pyperclip\n",
    "\n",
    "def requestGists( username ):\n",
    "    url = 'https://api.github.com/'\n",
    "\n",
    "    myResponse = requests.get(url+'users/'+username+'/gists')\n",
    "    \n",
    "    # For successful API call, response code will be 200 (OK)\n",
    "    if(myResponse.ok):\n",
    "\n",
    "        # Loading the response data into a dict variable\n",
    "        # json.loads takes in only binary or string variables so using content to fetch binary content\n",
    "        # Loads (Load String) takes a Json file and converts into python data structure (dict or list, depending on JSON)\n",
    "        jData = json.loads(myResponse.content.decode('utf-8'))\n",
    "        return jData\n",
    "    else:\n",
    "      # If response code is not ok (200), print the resulting http error code with description\n",
    "        myResponse.raise_for_status()\n",
    "        return None"
   ]
  },
  {
   "cell_type": "code",
   "execution_count": 88,
   "metadata": {
    "scrolled": true
   },
   "outputs": [],
   "source": [
    "users = {'lacan': 'Olivier Burri', 'romainGuiet': 'Romain Guiet', 'NicoKiaru':'Nicolas Chiaruttini'}"
   ]
  },
  {
   "cell_type": "code",
   "execution_count": 124,
   "metadata": {},
   "outputs": [
    {
     "ename": "HTTPError",
     "evalue": "403 Client Error: rate limit exceeded for url: https://api.github.com/users/lacan/gists",
     "output_type": "error",
     "traceback": [
      "\u001b[1;31m---------------------------------------------------------------------------\u001b[0m",
      "\u001b[1;31mHTTPError\u001b[0m                                 Traceback (most recent call last)",
      "\u001b[1;32m<ipython-input-124-a515357d0b51>\u001b[0m in \u001b[0;36m<module>\u001b[1;34m\u001b[0m\n\u001b[0;32m      1\u001b[0m \u001b[1;31m# Get Gistlist from all users\u001b[0m\u001b[1;33m\u001b[0m\u001b[1;33m\u001b[0m\u001b[1;33m\u001b[0m\u001b[0m\n\u001b[1;32m----> 2\u001b[1;33m \u001b[0mgists\u001b[0m \u001b[1;33m=\u001b[0m \u001b[1;33m[\u001b[0m \u001b[0mrequestGists\u001b[0m\u001b[1;33m(\u001b[0m \u001b[0muser\u001b[0m \u001b[1;33m)\u001b[0m \u001b[1;32mfor\u001b[0m \u001b[0muser\u001b[0m \u001b[1;32min\u001b[0m \u001b[0musers\u001b[0m\u001b[1;33m]\u001b[0m\u001b[1;33m\u001b[0m\u001b[1;33m\u001b[0m\u001b[0m\n\u001b[0m\u001b[0;32m      3\u001b[0m \u001b[1;33m\u001b[0m\u001b[0m\n\u001b[0;32m      4\u001b[0m \u001b[1;31m# Flatten out\u001b[0m\u001b[1;33m\u001b[0m\u001b[1;33m\u001b[0m\u001b[1;33m\u001b[0m\u001b[0m\n\u001b[0;32m      5\u001b[0m \u001b[0mgists\u001b[0m \u001b[1;33m=\u001b[0m \u001b[1;33m[\u001b[0m \u001b[0mgist\u001b[0m \u001b[1;32mfor\u001b[0m \u001b[0muser\u001b[0m \u001b[1;32min\u001b[0m \u001b[0mgists\u001b[0m \u001b[1;32mfor\u001b[0m \u001b[0mgist\u001b[0m \u001b[1;32min\u001b[0m \u001b[0muser\u001b[0m\u001b[1;33m]\u001b[0m\u001b[1;33m\u001b[0m\u001b[1;33m\u001b[0m\u001b[0m\n",
      "\u001b[1;32m<ipython-input-124-a515357d0b51>\u001b[0m in \u001b[0;36m<listcomp>\u001b[1;34m(.0)\u001b[0m\n\u001b[0;32m      1\u001b[0m \u001b[1;31m# Get Gistlist from all users\u001b[0m\u001b[1;33m\u001b[0m\u001b[1;33m\u001b[0m\u001b[1;33m\u001b[0m\u001b[0m\n\u001b[1;32m----> 2\u001b[1;33m \u001b[0mgists\u001b[0m \u001b[1;33m=\u001b[0m \u001b[1;33m[\u001b[0m \u001b[0mrequestGists\u001b[0m\u001b[1;33m(\u001b[0m \u001b[0muser\u001b[0m \u001b[1;33m)\u001b[0m \u001b[1;32mfor\u001b[0m \u001b[0muser\u001b[0m \u001b[1;32min\u001b[0m \u001b[0musers\u001b[0m\u001b[1;33m]\u001b[0m\u001b[1;33m\u001b[0m\u001b[1;33m\u001b[0m\u001b[0m\n\u001b[0m\u001b[0;32m      3\u001b[0m \u001b[1;33m\u001b[0m\u001b[0m\n\u001b[0;32m      4\u001b[0m \u001b[1;31m# Flatten out\u001b[0m\u001b[1;33m\u001b[0m\u001b[1;33m\u001b[0m\u001b[1;33m\u001b[0m\u001b[0m\n\u001b[0;32m      5\u001b[0m \u001b[0mgists\u001b[0m \u001b[1;33m=\u001b[0m \u001b[1;33m[\u001b[0m \u001b[0mgist\u001b[0m \u001b[1;32mfor\u001b[0m \u001b[0muser\u001b[0m \u001b[1;32min\u001b[0m \u001b[0mgists\u001b[0m \u001b[1;32mfor\u001b[0m \u001b[0mgist\u001b[0m \u001b[1;32min\u001b[0m \u001b[0muser\u001b[0m\u001b[1;33m]\u001b[0m\u001b[1;33m\u001b[0m\u001b[1;33m\u001b[0m\u001b[0m\n",
      "\u001b[1;32m<ipython-input-121-7b674538c705>\u001b[0m in \u001b[0;36mrequestGists\u001b[1;34m(username)\u001b[0m\n\u001b[0;32m     19\u001b[0m     \u001b[1;32melse\u001b[0m\u001b[1;33m:\u001b[0m\u001b[1;33m\u001b[0m\u001b[1;33m\u001b[0m\u001b[0m\n\u001b[0;32m     20\u001b[0m       \u001b[1;31m# If response code is not ok (200), print the resulting http error code with description\u001b[0m\u001b[1;33m\u001b[0m\u001b[1;33m\u001b[0m\u001b[1;33m\u001b[0m\u001b[0m\n\u001b[1;32m---> 21\u001b[1;33m         \u001b[0mmyResponse\u001b[0m\u001b[1;33m.\u001b[0m\u001b[0mraise_for_status\u001b[0m\u001b[1;33m(\u001b[0m\u001b[1;33m)\u001b[0m\u001b[1;33m\u001b[0m\u001b[1;33m\u001b[0m\u001b[0m\n\u001b[0m\u001b[0;32m     22\u001b[0m         \u001b[1;32mreturn\u001b[0m \u001b[1;32mNone\u001b[0m\u001b[1;33m\u001b[0m\u001b[1;33m\u001b[0m\u001b[0m\n",
      "\u001b[1;32md:\\environments\\gists-request\\lib\\site-packages\\requests\\models.py\u001b[0m in \u001b[0;36mraise_for_status\u001b[1;34m(self)\u001b[0m\n\u001b[0;32m    939\u001b[0m \u001b[1;33m\u001b[0m\u001b[0m\n\u001b[0;32m    940\u001b[0m         \u001b[1;32mif\u001b[0m \u001b[0mhttp_error_msg\u001b[0m\u001b[1;33m:\u001b[0m\u001b[1;33m\u001b[0m\u001b[1;33m\u001b[0m\u001b[0m\n\u001b[1;32m--> 941\u001b[1;33m             \u001b[1;32mraise\u001b[0m \u001b[0mHTTPError\u001b[0m\u001b[1;33m(\u001b[0m\u001b[0mhttp_error_msg\u001b[0m\u001b[1;33m,\u001b[0m \u001b[0mresponse\u001b[0m\u001b[1;33m=\u001b[0m\u001b[0mself\u001b[0m\u001b[1;33m)\u001b[0m\u001b[1;33m\u001b[0m\u001b[1;33m\u001b[0m\u001b[0m\n\u001b[0m\u001b[0;32m    942\u001b[0m \u001b[1;33m\u001b[0m\u001b[0m\n\u001b[0;32m    943\u001b[0m     \u001b[1;32mdef\u001b[0m \u001b[0mclose\u001b[0m\u001b[1;33m(\u001b[0m\u001b[0mself\u001b[0m\u001b[1;33m)\u001b[0m\u001b[1;33m:\u001b[0m\u001b[1;33m\u001b[0m\u001b[1;33m\u001b[0m\u001b[0m\n",
      "\u001b[1;31mHTTPError\u001b[0m: 403 Client Error: rate limit exceeded for url: https://api.github.com/users/lacan/gists"
     ]
    }
   ],
   "source": [
    "# Get Gistlist from all users\n",
    "#gists = [ requestGists( user ) for user in users]\n",
    "\n",
    "# Flatten out\n",
    "gists = [ gist for user in gists for gist in user]\n",
    "\n",
    "gists = sorted(gists, key=lambda gist: [ key.lower() for key in gist['files'] ][0], reverse=False)\n",
    "\n",
    "# Create Table\n",
    "string = '|Name|Description|Author|Tags|Date|\\n|----|-----------|------|----|----|\\n'\n",
    "\n",
    "for gist in gists:\n",
    "    url = gist['html_url']\n",
    "    desc = gist['description']\n",
    "    owner = gist['owner']['login']\n",
    "    if owner in users:\n",
    "        owner = users[owner]\n",
    "    # Remove tags from description\n",
    "    tags = [tag.strip(\"#\") for tag in desc.split() if tag.startswith(\"#\")]\n",
    "    \n",
    "    if \"#\" in desc:\n",
    "        desc = desc[:desc.index(\"#\")]\n",
    "    \n",
    "    file = [ key for key in gist['files'] ][0] # There is just one file so far\n",
    "    updated = datetime.datetime.strptime( gist['updated_at'], '%Y-%m-%dT%H:%M:%SZ' )\n",
    "    \n",
    "    if \"BIOP\" in tags:\n",
    "        string += \"| **[[ %s|%s ]]** | %s | %s | %s | %s |\\n \" % ( url, file, \n",
    "                                                   desc, \n",
    "                                                   owner, \n",
    "                                                   ', '.join( [\"`#\"+tag+\"`\" for tag in tags] ), \n",
    "                                                   updated.strftime( \"%Y/%m/%d\" ) )\n",
    "# Alternative: Create Chapters    \n",
    "#        string. = ( \"== %s ==\" % ( file ),\n",
    "#                   \"//Author:// %s\" % ( owner ),\n",
    "#                   \"//Description:// %s\" % ( desc ),\n",
    "#                   \"//Tags:// %s\" % ( ', '.join( [\"`#\"+tag+\"`\" for tag in tags] ) ),\n",
    "#                   \"//Last Modified:// %s\" % (  ),\n",
    "#                   \"\\n\"\n",
    "#                 )\n",
    "                  \n",
    "pyperclip.copy( string )\n",
    "\n",
    "print( \"Gist result copied to clipboard\" )\n",
    "        "
   ]
  },
  {
   "cell_type": "code",
   "execution_count": null,
   "metadata": {},
   "outputs": [],
   "source": []
  }
 ],
 "metadata": {
  "kernelspec": {
   "display_name": "Python 3",
   "language": "python",
   "name": "python3"
  },
  "language_info": {
   "codemirror_mode": {
    "name": "ipython",
    "version": 3
   },
   "file_extension": ".py",
   "mimetype": "text/x-python",
   "name": "python",
   "nbconvert_exporter": "python",
   "pygments_lexer": "ipython3",
   "version": "3.7.9"
  }
 },
 "nbformat": 4,
 "nbformat_minor": 4
}
